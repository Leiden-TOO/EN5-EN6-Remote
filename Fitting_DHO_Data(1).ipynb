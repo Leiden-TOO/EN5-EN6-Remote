{
 "cells": [
  {
   "cell_type": "markdown",
   "metadata": {},
   "source": [
    "# EN2a Session 1: Fitting Dampened Harmonic Oscillator Data\n",
    "This notebook will guide you through the basic steps of analysing the data you obtained from your experiment with the RLC circuit. Before you start, make sure that you have some good data from the experiment and that you have saved your data as one or more .csv files.\n",
    "\n",
    "Don't forget to explain your work in your lab journal! You don't have to print your Python code and glue it in, but the steps of your reasoning should be clear from your lab journal *alone*. As always, a picture says more than a thousand words: putting your graphs in the lab journal is recommended.\n",
    "\n",
    "By now, you have already finished the Programming Methods course, which means that you've already seen the NumPy and Matplotlib modules. We don't expect you to be fluent Python programmers yet, so we will walk you through the steps of fitting the data for this experiment. Later, you will be able to use these skills during the open experiments.\n",
    "\n",
    "### Our goal\n",
    "![Image of Yaktocat](https://www.seas.upenn.edu/~ese206/RLCresponse/Image3.gif)\n",
    "\n",
    "Using the data you obtained, we want to do two things. First of all, we want to find the characteristic time $\\tau$ of the pink exponential function (see figure). Secondly, we want to determine the frequency of the wave.\n",
    "\n",
    "Our \"plan of attack\" will be: first, we filter only local maxima from your data. The exponential is meant to pass right through these maxima, so we will fit an exponential function through these maxima. From the parameters of the fit, we can read off the characteristic time.\n",
    "\n",
    "We will need quite some tools to make this work. Obviously, we will be using NumPy and Matplotlib, but we will also use SciPy. SciPy is a library with specialized tools for scientific research. It contains, amongst others, functions for fitting functions to data, and finding local maxima.\n",
    "\n",
    "### NumPy and Matplotlib Recap\n",
    "To get reaquinted will NumPy and Matplotlib, study the next two cells of code. In the code, I define two NumPy arrays: one for the x- and one for the y-axis of my graph. The NumPy array for the y-axis is filled with a sine wave. I then graph the sine wave.\n",
    "\n",
    "Try changing the frequency of the sine wave. Can you add labels and a title to the plot? And can you change the range of the x-axis? \n",
    "\n",
    "At the very least, try changing the program to use np.arange instead of np.linspace."
   ]
  },
  {
   "cell_type": "code",
   "execution_count": null,
   "metadata": {},
   "outputs": [],
   "source": [
    "import numpy as np\n",
    "import matplotlib.pyplot as plt\n",
    "# Plot in the notebook:\n",
    "%matplotlib inline "
   ]
  },
  {
   "cell_type": "code",
   "execution_count": null,
   "metadata": {},
   "outputs": [],
   "source": [
    "x_axis = np.linspace(0, 10, 1000)\n",
    "y_axis = np.sin(x_axis)\n",
    "\n",
    "plt.plot(x_axis, y_axis)\n",
    "plt.show()"
   ]
  },
  {
   "cell_type": "markdown",
   "metadata": {},
   "source": [
    "### Finding maxima\n",
    "Now we will try to write code that finds the local maxima of this function. We could do this using a for loop, but it is much simpler to use a function that has already been made. This function is called from argrelextrema and it is part of the scipy.signal module.\n",
    "\n",
    "\n",
    "\n"
   ]
  },
  {
   "cell_type": "code",
   "execution_count": null,
   "metadata": {},
   "outputs": [],
   "source": [
    "# Always import modules and functions before using them!\n",
    "from scipy.signal import argrelextrema"
   ]
  },
  {
   "cell_type": "markdown",
   "metadata": {},
   "source": [
    "The following code finds all the maxima of the array and puts the indices the maxima into an array I've called \"maxima\". Try printing it to verify it works: how many elements do you expect in the array?"
   ]
  },
  {
   "cell_type": "code",
   "execution_count": null,
   "metadata": {},
   "outputs": [],
   "source": [
    "maxima = argrelextrema(y_axis, np.greater)"
   ]
  },
  {
   "cell_type": "markdown",
   "metadata": {},
   "source": [
    "In practise, you won't be looking for the indices of the maxima, but for the x- and y-coordinates of the maxima. The following cell demonstrates how you can go from an array of indices to an array of corresponding x- and y-coordinates. Use the plt.plot and plt.scatter functions to verify it worked, by plotting the sine wave and the maxima you found."
   ]
  },
  {
   "cell_type": "code",
   "execution_count": null,
   "metadata": {},
   "outputs": [],
   "source": [
    "x_max = x_axis[maxima]\n",
    "y_max = y_axis[maxima]"
   ]
  },
  {
   "cell_type": "markdown",
   "metadata": {},
   "source": [
    "### The maxima of your data\n",
    "Now we will apply what we just learned to your data. Like with EN1a, I've already written most of the code, but you will have to fill in the blanks.\n",
    "\n",
    "You will see that just writing argrelextrema(ydata, np.greater) will not work anymore, because the function finds local maxima. If there's some noise in your data, then there will be a lot of points that are a local maximum, albeit *very* locally.\n",
    "\n",
    "To fix this, you will have to use argrelextrema's order parameter. This argument represents the range in which the maximum has to be a maximum. For example, if the order argument is equal to 100, then only maxima that are the largest within a 100-sample range will be accepted as local maxima.\n",
    "\n",
    "Use Matplotlib to check your work!"
   ]
  },
  {
   "cell_type": "code",
   "execution_count": null,
   "metadata": {},
   "outputs": [],
   "source": [
    "# First load your data: obviously you must fill in the path yourself\n",
    "tdata_raw, vdata_raw = np.loadtxt(\"test.csv\", unpack=True)\n",
    "\n",
    "# Your data might not be perfectly cropped. Maybe the first few samples are not part of the measurement yet.\n",
    "# Use a slice to specify the range over which we will be looking for maxima:\n",
    "t, V = tdata_raw[:300], vdata_raw[:300]\n",
    "\n",
    "# Now find the maxima:\n",
    "maxima = argrelextrema(V, np.greater_equal, order=1)\n",
    "\n",
    "print(maxima)\n",
    "\n",
    "# Convert to coordinates:\n",
    "tmax, Vmax = t[maxima], V[maxima]\n",
    "\n",
    "# Plot:\n",
    "plt.plot(t, V, color=\"blue\")\n",
    "plt.scatter(tmax, Vmax, color=\"red\")\n",
    "plt.ylim(-2,5)\n",
    "#plt.xlim(0,0.00004)\n",
    "plt.xlabel(\"Time (s)\")\n",
    "plt.ylabel(\"Amplitude (V)\")"
   ]
  },
  {
   "cell_type": "markdown",
   "metadata": {},
   "source": [
    "### Fitting an exponential curve through your maxima\n",
    "Now we will use another function from SciPy called curve_fit to fit an exponential function through your data. You've already seen curve_fit in EN1a.\n",
    "\n",
    "Recall: curve_fit takes at least three parameters. First, it takes the name of the function you want to fit. **You must have defined this function yourself, and its first argument should be the x-axis.** Second, it takes the x-components of your data, third it takes the y-components of your data.\n",
    "\n",
    "curve_fit returns two arrays. It will return an array containing the optimal parameters, and a matrix containing the covariances on the parameters. You don't have to know what a covariance matrix represents yet, but it's good to know that the diagonal contains the variances (standard deviation squared) of the parameters."
   ]
  },
  {
   "cell_type": "code",
   "execution_count": null,
   "metadata": {},
   "outputs": [],
   "source": [
    "\"\"\"This code tries to fit a linear function to your data. \n",
    "   Your data isn't linear yet, but in EN1a you learned how to do this. It's smart to use np.log.\n",
    "   Don't forget to check whether your data is exponential by plotting a log-plot.\n",
    "   Also, make sure to include error bars in the plots that end up in your lab journal. Use plt.errorbars instead of\n",
    "   plt.scatter. You can look up how plt.errorbars work in the documentation, but it is often faster to type plt.errorbars\n",
    "   and press shift+tab.\n",
    "   Lastly, if you run into any trouble with the functions, don't forget to look at the documentation!\"\"\"\n",
    "from scipy.optimize import curve_fit\n",
    "\n",
    "def linear_function(x, a, b):\n",
    "    return a*x + b\n",
    "\n",
    "param, pcov = curve_fit(linear_function, tmax, np.log(Vmax),sigma=)\n",
    "\n",
    "plt.scatter(tmax, np.log(Vmax), color=\"red\")\n",
    "plt.plot(t, linear_function(t, param[0], param[1]))   "
   ]
  },
  {
   "cell_type": "markdown",
   "metadata": {},
   "source": [
    "### Finding the frequency of your oscillator\n",
    "Lastly, we want to find the frequency of the oscillator. Luckily, we've already done most of the heavy lifting.\n",
    "\n",
    "Think about how we can determine the frequency using the data we've already acquired. Two hints to help you on your way:\n",
    "\n",
    "- np.diff() takes an array as an argument and returns the difference between the elements. E.g. np.diff([1, 2, 3, 9]) = [1, 1, 6]\n",
    "\n",
    "- np.mean() takes an array and returns the mean. E.g. np.mean([1, 2, 3]) = 2.0\n",
    "\n"
   ]
  },
  {
   "cell_type": "code",
   "execution_count": null,
   "metadata": {},
   "outputs": [],
   "source": []
  }
 ],
 "metadata": {
  "kernelspec": {
   "display_name": "Python 3",
   "language": "python",
   "name": "python3"
  },
  "language_info": {
   "codemirror_mode": {
    "name": "ipython",
    "version": 3
   },
   "file_extension": ".py",
   "mimetype": "text/x-python",
   "name": "python",
   "nbconvert_exporter": "python",
   "pygments_lexer": "ipython3",
   "version": "3.6.5"
  }
 },
 "nbformat": 4,
 "nbformat_minor": 2
}
