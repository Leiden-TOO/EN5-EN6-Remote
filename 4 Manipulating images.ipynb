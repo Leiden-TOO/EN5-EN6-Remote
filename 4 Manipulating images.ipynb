{
 "cells": [
  {
   "cell_type": "markdown",
   "metadata": {},
   "source": [
    "# Manipulating images in Python "
   ]
  },
  {
   "cell_type": "markdown",
   "metadata": {},
   "source": [
    "After this short tutorial, you will be able to do the following things in Python:\n",
    "1. Read and plot an image from a .jpg-file as a multidimensional array\n",
    "2. Manipulate a colour image into an intensity image\n",
    "3. Select only <font color='green'>one colour channel</font> of an image\n",
    "4. Slice an image to an area of interest\n",
    "5. Average any image along an axis of that image and plot the resulting array"
   ]
  },
  {
   "cell_type": "markdown",
   "metadata": {},
   "source": [
    "## Jupyter\n",
    "\n",
    "Before we get started first some information about using Jupyter notebooks. The notebook consists of \n",
    "different blocks of python code which we call cells. Using the arrow keys you can select a cell.\n",
    "\n",
    "Sometimes you will have to edit the code in the cells.\n",
    "To edit the contents of a cell click somewhere in the code of the cell. To execute the code press <b>CTRL+Enter</b>.\n",
    "\n",
    "<i>All keyboard shortcuts can be found by pressing the small keyboard in the menu bar. Many of these functions are also accessible using the mouse and the menu bar. Moving the cursor to a function and pressing shift+tab gives information about the function.</i>"
   ]
  },
  {
   "cell_type": "markdown",
   "metadata": {},
   "source": [
    "## The actual program\n",
    "Here we clear all variables and import some packages which we will use later on (select the cell below and press <b>CTRL+Enter</b> to run it). You do not need to understand this yet. You will learn what this means during your Python course in the first year or you can read the comments for some explanation or explore the accompanying websites: http://numpy.org/ & https://matplotlib.org/3.1.1/tutorials/introductory/pyplot.html & https://docs.scipy.org/doc/scipy/reference/generated/scipy.optimize.curve_fit.html."
   ]
  },
  {
   "cell_type": "code",
   "execution_count": null,
   "metadata": {},
   "outputs": [],
   "source": [
    "# Clear all variables\n",
    "\n",
    "%clear\n",
    "\n",
    "# One major feature of the IPython kernel is the ability to display plots that are the output of running code cells.\n",
    "# The IPython kernel is designed to work seamlessly with the matplotlib plotting library to provide this functionality.\n",
    "# To set this up, before any plotting or import of matplotlib is performed you must execute the %matplotlib magic command.\n",
    "# This performs the necessary behind-the-scenes setup for IPython to work correctly hand in hand with matplotlib;\n",
    "# It does not, however, actually execute any Python import commands, that is, no names are added to the namespace.\n",
    "\n",
    "%matplotlib inline\n",
    "\n",
    "# Numpy is the fundamental package for scientific computing with Python: http://numpy.org/\n",
    "# Numpy provides support to mathematically manipulate large, multi-dimensional arrays and matrices.\n",
    "# By importing this library in this way you can call all functions of numpy with the abbreviation np:\n",
    "# For example, np.arange to place a series of numbers in an array.\n",
    "\n",
    "import numpy as np\n",
    "\n",
    "# Throughout your studies you will most likely use matplotlib.pyplot to plot any graph you need to\n",
    "# illustrate your research: https://matplotlib.org/3.1.1/tutorials/introductory/pyplot.html\n",
    "# matplotlib.pyplot is a collection of command style functions that make matplotlib work like MATLAB.\n",
    "# Each pyplot function makes some change to a figure: e.g., creates a figure, creates a plotting area in a figure,\n",
    "# plots some lines in a plotting area, decorates the plot with labels, etc.\n",
    "\n",
    "import matplotlib.pyplot as plt\n",
    "\n",
    "# We use the datetime library so we can easily add a datestamp to the names of the figures we are going to save."
   ]
  },
  {
   "cell_type": "markdown",
   "metadata": {},
   "source": [
    "## 1. Read and plot an image"
   ]
  },
  {
   "cell_type": "code",
   "execution_count": null,
   "metadata": {},
   "outputs": [],
   "source": [
    "# Read in your image from a file (testfile = Diffraction2.jpg in the same directory as this notebook:\n",
    "# this image is the image taken by Thijs Aartsma at home)\n",
    "image = plt.imread('Diffraction2.jpg')\n",
    "# Plot the image in colour as it is\n",
    "plt.imshow(image, cmap = 'gray', interpolation = 'bicubic')\n",
    "plt.title('Original image')\n",
    "#plt.xticks([]), plt.yticks([])  # to hide tick values on X and Y axis but they will prove to be very valuable!\n",
    "# Finalize the plot so any other plot will get its separate plot area\n",
    "plt.show()"
   ]
  },
  {
   "cell_type": "markdown",
   "metadata": {},
   "source": [
    "## 2. Manipulate a colour image into an intensity image"
   ]
  },
  {
   "cell_type": "code",
   "execution_count": null,
   "metadata": {},
   "outputs": [],
   "source": [
    "# Changing the colour image to an intensity image using colour weights in the way a human eye would do as well\n",
    "rgb_weights = [0.2989, 0.5870, 0.1140]\n",
    "imageintensity = np.dot(image[...,:3], rgb_weights)\n",
    "# And plot it\n",
    "plt.imshow(imageintensity, cmap = 'gray', interpolation = 'bicubic')\n",
    "plt.title('Intensity of the image')\n",
    "plt.show()"
   ]
  },
  {
   "cell_type": "markdown",
   "metadata": {},
   "source": [
    "## 3. Select only <font color='green'>one colour channel</font> of an image"
   ]
  },
  {
   "cell_type": "code",
   "execution_count": null,
   "metadata": {},
   "outputs": [],
   "source": [
    "# Slice the image and only select the green channel of the image (red = 0, green = 1, blue = 2)\n",
    "imagegreen = image[:,:,1]\n",
    "# And plot it (understand that this green channel is plotted in grayscale here)\n",
    "plt.imshow(imagegreen, cmap = 'gray', interpolation = 'bicubic')\n",
    "plt.title('Green channel of the image')\n",
    "plt.show()"
   ]
  },
  {
   "cell_type": "markdown",
   "metadata": {},
   "source": [
    "## 4. Slice an image to an area of interest\n",
    "Notice that taking a perfectly horizontal pattern is preferable. If you don't, teach yourself how to rotate an image in Python."
   ]
  },
  {
   "cell_type": "code",
   "execution_count": null,
   "metadata": {},
   "outputs": [],
   "source": [
    "# Slice the image to the area of interest\n",
    "# (in your own pictures you will have to find the area of interest yourself of course)\n",
    "imageslice = image[1100:1200,600:1700]\n",
    "# And plot it\n",
    "plt.imshow(imageslice, cmap = 'gray', interpolation = 'bicubic')\n",
    "plt.title('Area of interest of the image')\n",
    "plt.show()\n",
    "\n",
    "# Slice the intensity image to the area of interest \n",
    "imageintensityslice = imageintensity[1100:1200,600:1700]\n",
    "# And plot it\n",
    "plt.imshow(imageintensityslice, cmap = 'gray', interpolation = 'bicubic')\n",
    "plt.title('Area of interest of the intensity of the image')\n",
    "plt.show()\n",
    "\n",
    "# Slice the original image and only select the green channel of the image in one go (red = 0, green = 1, blue = 2)\n",
    "imagegreenslice = image[1100:1200,600:1700,1]\n",
    "# And plot it\n",
    "plt.imshow(imagegreenslice, cmap = 'gray', interpolation = 'bicubic')\n",
    "plt.title('Area of interest of the green channel of the image')\n",
    "plt.show()"
   ]
  },
  {
   "cell_type": "markdown",
   "metadata": {},
   "source": [
    "## 5. Average any image along an axis of that image and plot the resulting array"
   ]
  },
  {
   "cell_type": "code",
   "execution_count": null,
   "metadata": {},
   "outputs": [],
   "source": [
    "# Take the average over the vertical axis per colour (vertical = 0, horizontal = 1)\n",
    "imagesliceaverageoveraxis = np.average(imageslice, axis=0)\n",
    "# And plot it in the standard order of colours (',' makes sure that pixels are used to plot the graph)\n",
    "plt.plot(imagesliceaverageoveraxis, '.', markersize=2)\n",
    "# Add a title (\\n creates a new line in the title)\n",
    "plt.title('Average over the vertical axis\\nof the area of interest of the image')\n",
    "plt.show()\n",
    "\n",
    "# Take the average over the vertical axis per colour (vertical = 0, horizontal = 1)\n",
    "imagesliceaverageoveraxisred = np.average(imageslice[:,:,0], axis=0)\n",
    "imagesliceaverageoveraxisgreen = np.average(imageslice[:,:,1], axis=0)\n",
    "imagesliceaverageoveraxisblue = np.average(imageslice[:,:,2], axis=0)\n",
    "# And plot it with the correct colours\n",
    "plt.plot(imagesliceaverageoveraxisred, '.r', markersize=2)\n",
    "plt.plot(imagesliceaverageoveraxisgreen, '.g', markersize=2)\n",
    "plt.plot(imagesliceaverageoveraxisblue, '.b', markersize=2)\n",
    "plt.title('Average over the vertical axis\\nof the area of interest of the image')\n",
    "plt.show()\n",
    "\n",
    "# Take the average over the vertical axis (vertical = 0, horizontal = 1)\n",
    "imageintensitysliceaverageoveraxis = np.average(imageintensityslice, axis=0)\n",
    "# And plot it\n",
    "plt.plot(imageintensitysliceaverageoveraxis, '.k', markersize=2)\n",
    "plt.title('Average over the vertical axis\\nof the area of interest of the intensity of the image')\n",
    "plt.show()\n",
    "\n",
    "# Take the average over the vertical axis (vertical = 0, horizontal = 1)\n",
    "imagegreensliceaverageoveraxis = np.average(imagegreenslice, axis=0)\n",
    "# And plot it\n",
    "plt.plot(imagegreensliceaverageoveraxis, '.g', markersize=2)\n",
    "plt.title('Average over the vertical axis\\nof the area of interest of the green channel of the image')\n",
    "plt.show()"
   ]
  },
  {
   "cell_type": "code",
   "execution_count": null,
   "metadata": {},
   "outputs": [],
   "source": [
    "# Here you can analyze the resulting data further (find maxima, fit to expectation, etc.)\n"
   ]
  },
  {
   "cell_type": "markdown",
   "metadata": {},
   "source": [
    "## Happy manipulating of images!"
   ]
  },
  {
   "cell_type": "code",
   "execution_count": null,
   "metadata": {},
   "outputs": [],
   "source": [
    "# Your code here: try manipulating some images of your own!\n"
   ]
  }
 ],
 "metadata": {
  "kernelspec": {
   "display_name": "Python 3",
   "language": "python",
   "name": "python3"
  },
  "language_info": {
   "codemirror_mode": {
    "name": "ipython",
    "version": 3
   },
   "file_extension": ".py",
   "mimetype": "text/x-python",
   "name": "python",
   "nbconvert_exporter": "python",
   "pygments_lexer": "ipython3",
   "version": "3.6.5"
  }
 },
 "nbformat": 4,
 "nbformat_minor": 2
}
